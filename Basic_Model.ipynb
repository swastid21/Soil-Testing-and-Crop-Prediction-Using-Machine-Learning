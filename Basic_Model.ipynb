{
  "nbformat": 4,
  "nbformat_minor": 0,
  "metadata": {
    "colab": {
      "provenance": []
    },
    "kernelspec": {
      "name": "python3",
      "display_name": "Python 3"
    },
    "language_info": {
      "name": "python"
    }
  },
  "cells": [
    {
      "cell_type": "code",
      "execution_count": null,
      "metadata": {
        "colab": {
          "base_uri": "https://localhost:8080/"
        },
        "id": "tyuEW-OiwJs9",
        "outputId": "4cdb1e24-de47-48eb-cbbf-fe688206c0e4"
      },
      "outputs": [
        {
          "output_type": "stream",
          "name": "stdout",
          "text": [
            "Accuracy: 0.98636\n"
          ]
        }
      ],
      "source": [
        "#Decision Tree Model\n",
        "import pandas as pd\n",
        "from sklearn.model_selection import train_test_split\n",
        "from sklearn.preprocessing import StandardScaler\n",
        "from sklearn.tree import DecisionTreeClassifier\n",
        "from sklearn.metrics import accuracy_score, classification_report\n",
        "import matplotlib.pyplot as plt\n",
        "import seaborn as sns\n",
        "\n",
        "\n",
        "# Load the dataset\n",
        "df = pd.read_csv('/content/Crop_recommendation.csv')\n",
        "\n",
        "X = df.drop('label', axis=1)\n",
        "y = df['label']\n",
        "\n",
        "# Split the data into training and testing sets\n",
        "X_train, X_test, y_train, y_test = train_test_split(X, y, test_size=0.2, random_state=42)\n",
        "\n",
        "clf = DecisionTreeClassifier(random_state=42)\n",
        "\n",
        "clf.fit(X_train, y_train)\n",
        "\n",
        "y_pred = clf.predict(X_test)\n",
        "\n",
        "# Calculate accuracy\n",
        "accuracy_dicisiontree = accuracy_score(y_test, y_pred)\n",
        "print(f'Accuracy: {accuracy_dicisiontree:.5f}')\n"
      ]
    },
    {
      "cell_type": "code",
      "source": [
        "#SVM Classifier\n",
        "from sklearn.svm import SVC\n",
        "\n",
        "svm_classifier = SVC(kernel='linear', C=1.0, random_state=42)\n",
        "\n",
        "# Training the model\n",
        "svm_classifier.fit(X_train, y_train)\n",
        "\n",
        "y_pred_svm = svm_classifier.predict(X_test)\n",
        "\n",
        "accuracy_svm = accuracy_score(y_test, y_pred_svm)\n",
        "print(f'SVM Accuracy: {accuracy_svm:.5f}')\n"
      ],
      "metadata": {
        "colab": {
          "base_uri": "https://localhost:8080/"
        },
        "id": "Tesakv95WN9y",
        "outputId": "485f84ba-33d8-4690-ad28-449b2946d302"
      },
      "execution_count": null,
      "outputs": [
        {
          "output_type": "stream",
          "name": "stdout",
          "text": [
            "SVM Accuracy: 0.97955\n"
          ]
        }
      ]
    },
    {
      "cell_type": "code",
      "source": [
        "#Random Forest model\n",
        "from sklearn.ensemble import RandomForestClassifier\n",
        "\n",
        "rf_classifier = RandomForestClassifier(n_estimators=100, random_state=42)\n",
        "\n",
        "# Training the model\n",
        "rf_classifier.fit(X_train, y_train)\n",
        "\n",
        "y_pred_rf = rf_classifier.predict(X_test)\n",
        "\n",
        "accuracy_rf = accuracy_score(y_test, y_pred_rf)\n",
        "print(f'Random Forest Accuracy: {accuracy_rf:.5f}')\n"
      ],
      "metadata": {
        "colab": {
          "base_uri": "https://localhost:8080/"
        },
        "id": "fTne0tj0Vlr2",
        "outputId": "fc55f8c3-031c-4760-c3fb-efd5f73e6b9d"
      },
      "execution_count": null,
      "outputs": [
        {
          "output_type": "stream",
          "name": "stdout",
          "text": [
            "Random Forest Accuracy: 0.99318\n"
          ]
        }
      ]
    },
    {
      "cell_type": "code",
      "source": [
        "# Create a K-NN Classifier\n",
        "from sklearn.neighbors import KNeighborsClassifier\n",
        "\n",
        "knn_classifier = KNeighborsClassifier(n_neighbors=5)\n",
        "\n",
        "# Training the model\n",
        "knn_classifier.fit(X_train, y_train)\n",
        "\n",
        "y_pred_knn = knn_classifier.predict(X_test)\n",
        "\n",
        "accuracy_knn = accuracy_score(y_test, y_pred_knn)\n",
        "print(f'K-NN Accuracy: {accuracy_knn:.5f}')\n"
      ],
      "metadata": {
        "colab": {
          "base_uri": "https://localhost:8080/"
        },
        "id": "esbAqH_TWiNX",
        "outputId": "d163255d-03b6-40d0-a8f9-3ffc1a680aa4"
      },
      "execution_count": null,
      "outputs": [
        {
          "output_type": "stream",
          "name": "stdout",
          "text": [
            "K-NN Accuracy: 0.97045\n"
          ]
        }
      ]
    },
    {
      "cell_type": "code",
      "source": [
        "# Naive Bayes model\n",
        "from sklearn.naive_bayes import GaussianNB\n",
        "\n",
        "naive_bayes_classifier = GaussianNB()\n",
        "\n",
        "# Training the model\n",
        "naive_bayes_classifier.fit(X_train, y_train)\n",
        "\n",
        "y_pred_naive_bayes = naive_bayes_classifier.predict(X_test)\n",
        "\n",
        "accuracy_naive_bayes = accuracy_score(y_test, y_pred_naive_bayes)\n",
        "print(f'Naive Bayes Accuracy: {accuracy_naive_bayes:.5f}')\n"
      ],
      "metadata": {
        "colab": {
          "base_uri": "https://localhost:8080/"
        },
        "id": "9_d7PN9BWpvi",
        "outputId": "e89a4cf3-3c12-490e-b7d5-ff42205c8d3e"
      },
      "execution_count": null,
      "outputs": [
        {
          "output_type": "stream",
          "name": "stdout",
          "text": [
            "Naive Bayes Accuracy: 0.99545\n"
          ]
        }
      ]
    },
    {
      "cell_type": "code",
      "source": [
        "#Artificial Neural Network\n",
        "import pandas as pd\n",
        "from sklearn.model_selection import train_test_split\n",
        "from sklearn.preprocessing import StandardScaler\n",
        "from sklearn.preprocessing import LabelEncoder\n",
        "import tensorflow as tf\n",
        "from tensorflow import keras\n",
        "from tensorflow.keras.models import Sequential\n",
        "from tensorflow.keras.layers import Dense\n",
        "\n",
        "# Load the dataset\n",
        "df = pd.read_csv('/content/Crop_recommendation.csv')\n",
        "\n",
        "# Encode categorical variables if any (e.g., 'label')\n",
        "label_encoder = LabelEncoder()\n",
        "df['label'] = label_encoder.fit_transform(df['label'])\n",
        "\n",
        "# Split the data into features (X) and labels (y)\n",
        "X = df.drop('label', axis=1)\n",
        "y = df['label']\n",
        "\n",
        "# Split the data into training and testing sets\n",
        "X_train, X_test, y_train, y_test = train_test_split(X, y, test_size=0.2, random_state=42)\n",
        "\n",
        "# Standardize/Normalize the feature data\n",
        "scaler = StandardScaler()\n",
        "X_train = scaler.fit_transform(X_train)\n",
        "X_test = scaler.transform(X_test)\n",
        "\n",
        "# Create a neural network model\n",
        "model = Sequential()\n",
        "model.add(Dense(64, input_dim=X_train.shape[1], activation='relu'))\n",
        "model.add(Dense(32, activation='relu'))\n",
        "model.add(Dense(len(set(y)), activation='softmax'))\n",
        "\n",
        "# Compile the model\n",
        "model.compile(loss='sparse_categorical_crossentropy', optimizer='adam', metrics=['accuracy'])\n",
        "\n",
        "# Train the model on the training data\n",
        "model.fit(X_train, y_train, epochs=50, batch_size=64, verbose=1)\n",
        "\n",
        "# Evaluate the model on the test data\n",
        "_, accuracy_nn = model.evaluate(X_test, y_test)\n",
        "print(f'Neural Network Accuracy: {accuracy_nn:.5f}')\n"
      ],
      "metadata": {
        "colab": {
          "base_uri": "https://localhost:8080/"
        },
        "id": "LC35VjldcEEB",
        "outputId": "f3eded82-4524-4db8-de5a-86531f799af1"
      },
      "execution_count": null,
      "outputs": [
        {
          "output_type": "stream",
          "name": "stdout",
          "text": [
            "Epoch 1/50\n",
            "28/28 [==============================] - 2s 3ms/step - loss: 3.0116 - accuracy: 0.1222\n",
            "Epoch 2/50\n",
            "28/28 [==============================] - 0s 3ms/step - loss: 2.6681 - accuracy: 0.2932\n",
            "Epoch 3/50\n",
            "28/28 [==============================] - 0s 3ms/step - loss: 2.2306 - accuracy: 0.4699\n",
            "Epoch 4/50\n",
            "28/28 [==============================] - 0s 4ms/step - loss: 1.7370 - accuracy: 0.6347\n",
            "Epoch 5/50\n",
            "28/28 [==============================] - 0s 5ms/step - loss: 1.2803 - accuracy: 0.7437\n",
            "Epoch 6/50\n",
            "28/28 [==============================] - 0s 4ms/step - loss: 0.9370 - accuracy: 0.8199\n",
            "Epoch 7/50\n",
            "28/28 [==============================] - 0s 3ms/step - loss: 0.7126 - accuracy: 0.8676\n",
            "Epoch 8/50\n",
            "28/28 [==============================] - 0s 3ms/step - loss: 0.5654 - accuracy: 0.8955\n",
            "Epoch 9/50\n",
            "28/28 [==============================] - 0s 7ms/step - loss: 0.4631 - accuracy: 0.9097\n",
            "Epoch 10/50\n",
            "28/28 [==============================] - 0s 8ms/step - loss: 0.3892 - accuracy: 0.9250\n",
            "Epoch 11/50\n",
            "28/28 [==============================] - 0s 3ms/step - loss: 0.3362 - accuracy: 0.9290\n",
            "Epoch 12/50\n",
            "28/28 [==============================] - 0s 3ms/step - loss: 0.2889 - accuracy: 0.9420\n",
            "Epoch 13/50\n",
            "28/28 [==============================] - 0s 5ms/step - loss: 0.2547 - accuracy: 0.9506\n",
            "Epoch 14/50\n",
            "28/28 [==============================] - 0s 3ms/step - loss: 0.2258 - accuracy: 0.9534\n",
            "Epoch 15/50\n",
            "28/28 [==============================] - 0s 4ms/step - loss: 0.2039 - accuracy: 0.9557\n",
            "Epoch 16/50\n",
            "28/28 [==============================] - 0s 6ms/step - loss: 0.1845 - accuracy: 0.9591\n",
            "Epoch 17/50\n",
            "28/28 [==============================] - 0s 3ms/step - loss: 0.1684 - accuracy: 0.9597\n",
            "Epoch 18/50\n",
            "28/28 [==============================] - 0s 6ms/step - loss: 0.1551 - accuracy: 0.9625\n",
            "Epoch 19/50\n",
            "28/28 [==============================] - 0s 4ms/step - loss: 0.1436 - accuracy: 0.9636\n",
            "Epoch 20/50\n",
            "28/28 [==============================] - 0s 4ms/step - loss: 0.1358 - accuracy: 0.9670\n",
            "Epoch 21/50\n",
            "28/28 [==============================] - 0s 5ms/step - loss: 0.1261 - accuracy: 0.9699\n",
            "Epoch 22/50\n",
            "28/28 [==============================] - 0s 4ms/step - loss: 0.1198 - accuracy: 0.9710\n",
            "Epoch 23/50\n",
            "28/28 [==============================] - 0s 3ms/step - loss: 0.1117 - accuracy: 0.9733\n",
            "Epoch 24/50\n",
            "28/28 [==============================] - 0s 4ms/step - loss: 0.1058 - accuracy: 0.9756\n",
            "Epoch 25/50\n",
            "28/28 [==============================] - 0s 4ms/step - loss: 0.0994 - accuracy: 0.9784\n",
            "Epoch 26/50\n",
            "28/28 [==============================] - 0s 3ms/step - loss: 0.0939 - accuracy: 0.9818\n",
            "Epoch 27/50\n",
            "28/28 [==============================] - 0s 3ms/step - loss: 0.0903 - accuracy: 0.9767\n",
            "Epoch 28/50\n",
            "28/28 [==============================] - 0s 3ms/step - loss: 0.0862 - accuracy: 0.9812\n",
            "Epoch 29/50\n",
            "28/28 [==============================] - 0s 4ms/step - loss: 0.0827 - accuracy: 0.9818\n",
            "Epoch 30/50\n",
            "28/28 [==============================] - 0s 3ms/step - loss: 0.0780 - accuracy: 0.9841\n",
            "Epoch 31/50\n",
            "28/28 [==============================] - 0s 2ms/step - loss: 0.0754 - accuracy: 0.9835\n",
            "Epoch 32/50\n",
            "28/28 [==============================] - 0s 2ms/step - loss: 0.0733 - accuracy: 0.9847\n",
            "Epoch 33/50\n",
            "28/28 [==============================] - 0s 2ms/step - loss: 0.0704 - accuracy: 0.9835\n",
            "Epoch 34/50\n",
            "28/28 [==============================] - 0s 2ms/step - loss: 0.0695 - accuracy: 0.9841\n",
            "Epoch 35/50\n",
            "28/28 [==============================] - 0s 2ms/step - loss: 0.0660 - accuracy: 0.9818\n",
            "Epoch 36/50\n",
            "28/28 [==============================] - 0s 2ms/step - loss: 0.0626 - accuracy: 0.9852\n",
            "Epoch 37/50\n",
            "28/28 [==============================] - 0s 2ms/step - loss: 0.0609 - accuracy: 0.9852\n",
            "Epoch 38/50\n",
            "28/28 [==============================] - 0s 2ms/step - loss: 0.0601 - accuracy: 0.9841\n",
            "Epoch 39/50\n",
            "28/28 [==============================] - 0s 2ms/step - loss: 0.0576 - accuracy: 0.9875\n",
            "Epoch 40/50\n",
            "28/28 [==============================] - 0s 2ms/step - loss: 0.0562 - accuracy: 0.9869\n",
            "Epoch 41/50\n",
            "28/28 [==============================] - 0s 2ms/step - loss: 0.0543 - accuracy: 0.9875\n",
            "Epoch 42/50\n",
            "28/28 [==============================] - 0s 2ms/step - loss: 0.0537 - accuracy: 0.9835\n",
            "Epoch 43/50\n",
            "28/28 [==============================] - 0s 2ms/step - loss: 0.0544 - accuracy: 0.9830\n",
            "Epoch 44/50\n",
            "28/28 [==============================] - 0s 2ms/step - loss: 0.0499 - accuracy: 0.9875\n",
            "Epoch 45/50\n",
            "28/28 [==============================] - 0s 2ms/step - loss: 0.0499 - accuracy: 0.9892\n",
            "Epoch 46/50\n",
            "28/28 [==============================] - 0s 2ms/step - loss: 0.0488 - accuracy: 0.9864\n",
            "Epoch 47/50\n",
            "28/28 [==============================] - 0s 2ms/step - loss: 0.0486 - accuracy: 0.9881\n",
            "Epoch 48/50\n",
            "28/28 [==============================] - 0s 2ms/step - loss: 0.0441 - accuracy: 0.9875\n",
            "Epoch 49/50\n",
            "28/28 [==============================] - 0s 2ms/step - loss: 0.0439 - accuracy: 0.9886\n",
            "Epoch 50/50\n",
            "28/28 [==============================] - 0s 2ms/step - loss: 0.0420 - accuracy: 0.9920\n",
            "14/14 [==============================] - 0s 2ms/step - loss: 0.1004 - accuracy: 0.9705\n",
            "Neural Network Accuracy: 0.97045\n"
          ]
        }
      ]
    },
    {
      "cell_type": "code",
      "source": [
        "accuracies = [accuracy_dicisiontree,accuracy_svm,accuracy_rf,accuracy_knn,accuracy_naive_bayes,accuracy_nn]\n",
        "models = [\"Decision Tree\",\"Standard Vector Machine\",\"Random Forest\",\"KNN Classifier\",\"Naive Bayes\",\"Artificial Neural Networks\"]\n",
        "\n",
        "for i in range(len(accuracies)):\n",
        "  accuracies[i]*=100\n",
        "\n",
        "for i in range(len(accuracies)):\n",
        "  print(models[i], \": Accuracy\", accuracies[i])\n",
        "\n",
        "print()\n",
        "plt.figure(figsize=(10, 6))\n",
        "plt.bar(models, accuracies, color='skyblue')\n",
        "plt.xlabel('Model')\n",
        "plt.ylabel('Accuracy')\n",
        "plt.title('Model Accuracy Comparison')\n",
        "plt.ylim([0, 100])  # Set the y-axis range\n",
        "plt.xticks(rotation=45)\n",
        "plt.show()"
      ],
      "metadata": {
        "colab": {
          "base_uri": "https://localhost:8080/",
          "height": 827
        },
        "id": "t0jk84nYCtaP",
        "outputId": "761c01e8-ae60-4274-bf51-b672b9414680"
      },
      "execution_count": null,
      "outputs": [
        {
          "output_type": "stream",
          "name": "stdout",
          "text": [
            "Decision Tree : Accuracy 98.63636363636363\n",
            "Standard Vector Machine : Accuracy 97.95454545454545\n",
            "Random Forest : Accuracy 99.31818181818181\n",
            "KNN Classifier : Accuracy 97.04545454545455\n",
            "Naive Bayes : Accuracy 99.54545454545455\n",
            "Artificial Neural Networks : Accuracy 97.04545736312866\n",
            "\n"
          ]
        },
        {
          "output_type": "display_data",
          "data": {
            "text/plain": [
              "<Figure size 1000x600 with 1 Axes>"
            ],
            "image/png": "[encoded data removed]"
          },
          "metadata": {}
        }
      ]
    }
  ]
}